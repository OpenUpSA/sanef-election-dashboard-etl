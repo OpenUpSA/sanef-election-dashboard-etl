{
  "nbformat": 4,
  "nbformat_minor": 5,
  "metadata": {
    "interpreter": {
      "hash": "fbff9bfab3ee0df4124016b4e010029cf2ec5864ce5e3c4aa09796cc364af95f"
    },
    "kernelspec": {
      "display_name": "Python 3",
      "language": "python",
      "name": "python3"
    },
    "language_info": {
      "codemirror_mode": {
        "name": "ipython",
        "version": 3
      },
      "file_extension": ".py",
      "mimetype": "text/x-python",
      "name": "python",
      "nbconvert_exporter": "python",
      "pygments_lexer": "ipython3",
      "version": "3.8.8"
    },
    "colab": {
      "name": "2016 Election Number of hung and outright majority.ipynb",
      "provenance": []
    }
  },
  "cells": [
    {
      "cell_type": "code",
      "metadata": {
        "id": "dzgmQitV1w3W"
      },
      "source": [
        "pip install aiohttp"
      ],
      "id": "dzgmQitV1w3W",
      "execution_count": null,
      "outputs": []
    },
    {
      "cell_type": "code",
      "metadata": {
        "id": "Xd2hJTsen2Dr",
        "colab": {
          "base_uri": "https://localhost:8080/"
        },
        "outputId": "739161e8-8328-47eb-f151-093e5e67e2f1"
      },
      "source": [
        "pip install nest-asyncio"
      ],
      "id": "Xd2hJTsen2Dr",
      "execution_count": 2,
      "outputs": [
        {
          "output_type": "stream",
          "name": "stdout",
          "text": [
            "Requirement already satisfied: nest-asyncio in /usr/local/lib/python3.7/dist-packages (1.5.1)\n"
          ]
        }
      ]
    },
    {
      "cell_type": "code",
      "metadata": {
        "id": "c51f6b7c"
      },
      "source": [
        "import pandas as pd\n",
        "import requests\n",
        "import aiohttp\n",
        "import asyncio\n",
        "import json\n",
        "import os\n",
        "import sys\n",
        "import math\n",
        "from aiohttp import ClientSession\n",
        "from urllib.error import HTTPError\n",
        "from requests.structures import CaseInsensitiveDict\n",
        "import nest_asyncio\n",
        "nest_asyncio.apply()"
      ],
      "id": "c51f6b7c",
      "execution_count": 5,
      "outputs": []
    },
    {
      "cell_type": "code",
      "metadata": {
        "id": "7a7a797f"
      },
      "source": [
        "API = \"https://api.elections.org.za\"\n",
        "token = 'Bi3pBe230IzZzJpc32DhARURHEBTnlKvXWs0zJLaITc9aSyZqSidkIWUTjivv0XIVg0yBKusquPqqohmgzAV11WJ8RDBWaEowPiAbJa-66zL7Fw3H95ANqgR2STR8Js9OeyB465T-PG3aDfHYb8dRBmuw1VtJi5CvY1BETCdMB0F0Rdc278_NzSbJPJgy9C2SXuOc_mrWFG6fQ-Q-gcWuzVLsRp9VHM-KqkLGA-QmdAfbEt_Kn9bRiPrZ7QC1ewpcRNazu3SD0sFLcFsMLeelC9Z6LUE4T3EP1ElvFJqWhjXNx-Oan3E5U4O2PJtyr57gQC_GIusiwWYrDOzb4qG1RXA3XC6gYr531QKGjXUETrMXNPWzLYxcuWYmAOE8Ca0ON8L0M24n5UQP4RWs7260bGdUrB-sncp9ZI9AB9pl9-O0Hm0'\n",
        "headers = CaseInsensitiveDict()\n",
        "headers[\"Authorization\"] = \"Bearer \" + token\n",
        "headers[\"Accept\"] = \"application/json\""
      ],
      "id": "7a7a797f",
      "execution_count": 6,
      "outputs": []
    },
    {
      "cell_type": "code",
      "metadata": {
        "id": "817733e4"
      },
      "source": [
        "ElectoralEventID = '402'\n",
        "WardResults = []\n",
        "MuniSeatResults = []\n",
        "Result =[]\n"
      ],
      "id": "817733e4",
      "execution_count": 14,
      "outputs": []
    },
    {
      "cell_type": "code",
      "metadata": {
        "id": "ad914977"
      },
      "source": [
        "wards_df = pd.read_csv('Wards.csv')\n",
        "Wards = wards_df.values.tolist()\n",
        "munis_df = pd.read_csv('Munis.csv')\n",
        "Munis = munis_df.values.tolist()"
      ],
      "id": "ad914977",
      "execution_count": 8,
      "outputs": []
    },
    {
      "cell_type": "code",
      "metadata": {
        "id": "ASJCME_M6wdO"
      },
      "source": [
        "#remove the district \n",
        "munis_df = munis_df[munis_df['MunicTypeID']!=3]\n",
        "munis_id =munis_df['MunicipalityID'].tolist()\n"
      ],
      "id": "ASJCME_M6wdO",
      "execution_count": 9,
      "outputs": []
    },
    {
      "cell_type": "code",
      "metadata": {
        "id": "cf124433"
      },
      "source": [
        "async def get_data(endpoint, url, query, session):\n",
        "    api_url = API + url + str(query)\n",
        "    try:\n",
        "        response = await session.request(method='GET', url=api_url, headers=headers)\n",
        "        response.raise_for_status()\n",
        "    except HTTPError as http_err:\n",
        "        print(f\"HTTP error occurred: {http_err}\")\n",
        "    except Exception as err:\n",
        "        print(f\"An error ocurred: {err}\")\n",
        "    response_json = await response.json()\n",
        "    return response_json"
      ],
      "id": "cf124433",
      "execution_count": 10,
      "outputs": []
    },
    {
      "cell_type": "code",
      "metadata": {
        "id": "adefb94e"
      },
      "source": [
        "\n",
        "async def run_program(endpoint, url, query, session):\n",
        "    \n",
        "    try:\n",
        "        response = await get_data(endpoint, url, query, session)\n",
        "        row = dict({\n",
        "             'Province': response['Province'],\n",
        "             'Geography': response['Municipality'].split(\" \", 1)[0],\n",
        "             'MunicipalityID': response['MunicipalityID'],\n",
        "             'TotalSeatsAvailable': response['TotalSeatsAvailable'],\n",
        "             'TotalValidVotes':response['TotalValidVotes']\n",
        "        })\n",
        "        ##### \n",
        "        ## LGESeatCalculationResults-Hung\n",
        "        #####\n",
        "                \n",
        "        if(endpoint == 'LGESeatCalculationResults-Hung'):      \n",
        "            muniResults = []\n",
        "             \n",
        "            for result in response['PartyResults']:\n",
        "                row['PartyName'] =  result['Name']\n",
        "                row['TotalPartySeats'] = result['TotalPartySeats'] \n",
        "                muniResults.append(\n",
        "                     {\n",
        "                        'PartyName': result['Name'],\n",
        "                        'TotalPartySeats': result['TotalPartySeats']\n",
        "                     }\n",
        "                 )\n",
        "                Result.append(row) \n",
        "            \n",
        "            if(response['TotalSeatsAvailable']/2 > max(muniResults, key=lambda x:x['TotalPartySeats'])['TotalPartySeats']):\n",
        "                majority_result = 'Hung'\n",
        "            else:\n",
        "                majority_result = 'Outright Majority'\n",
        "                \n",
        "            MuniSeatResults.append(\n",
        "                {\n",
        "                    'Province': response['Province'],\n",
        "                    'Geography': response['Municipality'].split(\" \", 1)[0],\n",
        "                    'majority_result': majority_result\n",
        "                    \n",
        "                }\n",
        "            )\n",
        "\n",
        "            \n",
        "    except Exception as err:\n",
        "        print(f\"Exception occured: {err}\")\n",
        "        pass"
      ],
      "id": "adefb94e",
      "execution_count": 11,
      "outputs": []
    },
    {
      "cell_type": "code",
      "metadata": {
        "id": "b9RaPv_44UBz",
        "colab": {
          "base_uri": "https://localhost:8080/"
        },
        "outputId": "eabcf9d8-27cf-4071-e24c-5e465db3db1f"
      },
      "source": [
        "async def getOutrightMajority():\n",
        "  async with ClientSession() as session:\n",
        "      await asyncio.gather(*[run_program('LGESeatCalculationResults-Hung','/api/v1/LGESeatCalculationResults?ElectoralEventID=' + str(ElectoralEventID), '&MunicipalityID=' + str(m), session) for m in munis_id])\n",
        "\n",
        "      muniResults_df = pd.DataFrame(MuniSeatResults)\n",
        "      muniResults_df.to_csv('result_2016_number_of_majority.csv', index=False)\n",
        "     \n",
        "\n",
        "def main():\n",
        "    loop = asyncio.get_event_loop()\n",
        "    loop.run_until_complete(getOutrightMajority())\n",
        "    #loop.close()\n",
        "\n",
        "main()"
      ],
      "id": "b9RaPv_44UBz",
      "execution_count": 15,
      "outputs": [
        {
          "output_type": "stream",
          "name": "stdout",
          "text": [
            "Exception occured: 0, message='Attempt to decode JSON with unexpected mimetype: ', url=URL('https://api.elections.org.za/api/v1/LGESeatCalculationResults?ElectoralEventID=402&MunicipalityID=6614')\n"
          ]
        }
      ]
    },
    {
      "cell_type": "code",
      "metadata": {
        "id": "83e952f3"
      },
      "source": [
        "muniResults_df = pd.DataFrame(MuniSeatResults)\n",
        "work_df = muniResults_df\n",
        "work_df2 = work_df.groupby('Province')['majority_result'].value_counts().reset_index(name='count')\n",
        "work_df2\n",
        "work_df2.to_csv('MunisHungByProvince.csv', index=False)"
      ],
      "id": "83e952f3",
      "execution_count": 16,
      "outputs": []
    },
    {
      "cell_type": "code",
      "metadata": {
        "id": "lTX5Rg9qxxYl"
      },
      "source": [
        "df = pd.DataFrame(Result)\n",
        "df.to_csv('result_2016_number_of_majority.csv', index=False)\n",
        "df"
      ],
      "id": "lTX5Rg9qxxYl",
      "execution_count": null,
      "outputs": []
    },
    {
      "cell_type": "code",
      "metadata": {
        "id": "przWEHzDY2yD"
      },
      "source": [
        ""
      ],
      "id": "przWEHzDY2yD",
      "execution_count": null,
      "outputs": []
    }
  ]
}